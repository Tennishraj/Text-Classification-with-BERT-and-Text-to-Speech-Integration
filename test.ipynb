{
 "cells": [
  {
   "cell_type": "code",
   "execution_count": null,
   "metadata": {
    "vscode": {
     "languageId": "plaintext"
    }
   },
   "outputs": [],
   "source": [
    "import json\n",
    "import torch\n",
    "from transformers import AutoTokenizer, AutoModelForSequenceClassification\n",
    "import pyttsx3\n",
    "\n",
    "# Load the label mapping\n",
    "label_mapping_path = \"./label_mapping.json\"\n",
    "with open(label_mapping_path, 'r') as f:\n",
    "    label_mapping = json.load(f)\n",
    "\n",
    "# Reverse the label mapping to get labels from indices\n",
    "reversed_label_mapping = {v: k for k, v in label_mapping.items()}\n",
    "\n",
    "# Load the trained model and tokenizer\n",
    "model_save_path = \"./trained_model320\"  # Path to the trained model\n",
    "tokenizer = AutoTokenizer.from_pretrained(model_save_path)\n",
    "model = AutoModelForSequenceClassification.from_pretrained(model_save_path)\n",
    "\n",
    "# Set the model to evaluation mode\n",
    "model.eval()\n",
    "\n",
    "# Initialize the text-to-speech engine\n",
    "engine = pyttsx3.init()\n",
    "\n",
    "# Optional: Adjust speech rate\n",
    "engine.setProperty('rate', 150)  # Change to desired speech rate\n",
    "\n",
    "# Define a function to make predictions\n",
    "def predict(texts):\n",
    "    # Tokenize the input text\n",
    "    inputs = tokenizer(texts, padding=True, truncation=True, return_tensors=\"pt\")\n",
    "\n",
    "    # Ensure to run on the appropriate device\n",
    "    with torch.no_grad():\n",
    "        outputs = model(**inputs)\n",
    "\n",
    "    # Get predicted labels\n",
    "    predictions = torch.argmax(outputs.logits, dim=-1)\n",
    "    return predictions\n",
    "\n",
    "# Define a function to speak the predicted answers\n",
    "def speak(text):\n",
    "    engine.say(text)\n",
    "    engine.runAndWait()\n",
    "\n",
    "# Example input data for testing\n",
    "test_data = [\n",
    "    \"Tell me about yourself\",\n",
    "]\n",
    "\n",
    "# Get predictions for the test data\n",
    "predictions = predict(test_data)\n",
    "\n",
    "# Map predictions back to labels using the reversed mapping\n",
    "predicted_labels = [reversed_label_mapping[prediction.item()] for prediction in predictions]\n",
    "\n",
    "# Print and speak the results\n",
    "for text, prediction in zip(test_data, predicted_labels):\n",
    "    # Prepare the speech format\n",
    "    speech_output = f\"You asked: '{text}'. The predicted answer is: '{prediction}'. Would you like to ask anything else?\"\n",
    "\n",
    "    print(f\"Question: {text}\\nPredicted Answer: {prediction}\\n\")\n",
    "    \n",
    "    # Speak the formatted response\n",
    "    speak(speech_output)\n"
   ]
  }
 ],
 "metadata": {
  "language_info": {
   "name": "python"
  }
 },
 "nbformat": 4,
 "nbformat_minor": 2
}
